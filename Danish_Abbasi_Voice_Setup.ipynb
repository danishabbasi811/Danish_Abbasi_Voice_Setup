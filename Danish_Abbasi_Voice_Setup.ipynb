{
  "nbformat": 4,
  "nbformat_minor": 0,
  "metadata": {
    "colab": {
      "provenance": [],
      "authorship_tag": "ABX9TyP29OahpkTngDv4l2ZqZDx2",
      "include_colab_link": true
    },
    "kernelspec": {
      "name": "python3",
      "display_name": "Python 3"
    },
    "language_info": {
      "name": "python"
    }
  },
  "cells": [
    {
      "cell_type": "markdown",
      "metadata": {
        "id": "view-in-github",
        "colab_type": "text"
      },
      "source": [
        "<a href=\"https://colab.research.google.com/github/danishabbasi811/Danish_Abbasi_Voice_Setup/blob/main/Danish_Abbasi_Voice_Setup.ipynb\" target=\"_parent\"><img src=\"https://colab.research.google.com/assets/colab-badge.svg\" alt=\"Open In Colab\"/></a>"
      ]
    },
    {
      "cell_type": "code",
      "execution_count": null,
      "metadata": {
        "id": "Eu9hkLhZPJCq"
      },
      "outputs": [],
      "source": [
        "# !nvcc --version\n",
        "# https://pytorch.org/get-started/locally/\n",
        "# pip3 install torch torchvision torchaudio --index-url https://download.pytorch.org/whl/cu124"
      ]
    },
    {
      "cell_type": "code",
      "source": [
        "!pip install git+https://github.com/danishabbasi811.git\n",
        "from IPython.display import clear_output\n",
        "clear_output()"
      ],
      "metadata": {
        "id": "7jBKUSmmQo2A"
      },
      "execution_count": null,
      "outputs": []
    },
    {
      "cell_type": "code",
      "source": [
        "!f5-tts_infer-gradio --share"
      ],
      "metadata": {
        "id": "9dvkQt_KQpM-"
      },
      "execution_count": null,
      "outputs": []
    }
  ]
}